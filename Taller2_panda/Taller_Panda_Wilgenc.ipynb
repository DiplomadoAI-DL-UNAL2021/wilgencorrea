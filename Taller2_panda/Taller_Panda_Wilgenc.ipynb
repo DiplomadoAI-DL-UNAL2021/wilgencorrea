{
  "nbformat": 4,
  "nbformat_minor": 0,
  "metadata": {
    "colab": {
      "name": "Taller_Panda_Wilgenc.ipynb",
      "provenance": []
    },
    "kernelspec": {
      "name": "python3",
      "display_name": "Python 3"
    },
    "language_info": {
      "name": "python"
    }
  },
  "cells": [
    {
      "cell_type": "markdown",
      "metadata": {
        "id": "99plqecRSOaP"
      },
      "source": [
        "# Taller 2 - Panda\n",
        "---\n",
        "* Wilgen Vicente Correa Padilla\n",
        "* Fecha 3 abril 2021\n",
        "---\n",
        "\n",
        "Temas:\n",
        "\n",
        "1. Diga qué índices serían pertienentes tener y pongalos.\n",
        "\n",
        "2. Elimine registros que tengan NA en la columna \"pm2.5\"\n",
        "\n",
        "3. Realice un describe de todas las variables por año. Además de realizar un gráfico como boxplot con el que pueda comparar los resultados dados.\n",
        "\n",
        "4. Realice un gráfico de disperción de las variables \"pm2.5\" y \"TEMP\" con título, labels apropiados y color rojo para los datos. Describa: ¿Qué se puede inferir de dicho gráfico?\n",
        "\n",
        "5. Calcule la probabilidad de encontrar en la Base de datos el valor de pm2.5 encima de 120\n",
        "\n",
        "6. Para finalizar, agrupe por año el valor de la variable \"pm2.5\", calcule el promedio y ordene la base de datos de manera ascendente por el promedio.\n"
      ]
    },
    {
      "cell_type": "markdown",
      "metadata": {
        "id": "N8fOhwvcXw7e"
      },
      "source": [
        "# Importar las librerias de trabajo"
      ]
    },
    {
      "cell_type": "code",
      "metadata": {
        "id": "oifPIdi9Sb3S"
      },
      "source": [
        "# Importar las librerias de trabajo\n",
        "import matplotlib.pyplot as plt\n",
        "from IPython.display import display \n",
        "import seaborn as sbn\n",
        "from copy import deepcopy\n",
        "import pandas as pd\n",
        "import numpy as np\n"
      ],
      "execution_count": 87,
      "outputs": []
    },
    {
      "cell_type": "markdown",
      "metadata": {
        "id": "tikWGICaX1cN"
      },
      "source": [
        "## Importar los datos de la fuente, enlace WEB, dados para el taller de Panda!"
      ]
    },
    {
      "cell_type": "code",
      "metadata": {
        "id": "X6rJ7c3dT1Rl"
      },
      "source": [
        "## importar los datos de la fuente, enlace WEB\n",
        "# Se lee la fuente de información y se vincula al Data Frame df\n",
        "df = pd.read_csv(\"https://archive.ics.uci.edu/ml/machine-learning-databases/00381/PRSA_data_2010.1.1-2014.12.31.csv\", header=0)\n",
        "pd.options.display.max_columns=None\n",
        "\n"
      ],
      "execution_count": 88,
      "outputs": []
    },
    {
      "cell_type": "markdown",
      "metadata": {
        "id": "9QKorGvesQUO"
      },
      "source": [
        "# Resumen:\n",
        "## Información del DataSet, corresponden a los datos meteorológicos entre 1 ENE de 2010 y el 31 de DIC del 2014, de la embajada de estado Unidos en Pekin\n",
        "\n",
        "Los atributos son:\n",
        "\n",
        "* No: Número de registro\n",
        "* year: años del dato\n",
        "* month: mes del dato\n",
        "* day: día del dato\n",
        "* hour: hora\n",
        "* pm2.5: Concentración PM2.5 (ug/m^3)\n",
        "* DEWP:  Punto de rocio (gota) (â„ƒ)\n",
        "* TEMP: Temperatura (â„ƒ)\n",
        "* PRES: Presión (hPa)\n",
        "* cbwd: Dirección del viento combinada\n",
        "* Iws: Velocidad del viento acumulada (m/s)\n",
        "* Is: Horas acumulada de nieve\n",
        "* Ir: Horas acumuladas de lluvia\n",
        "\n"
      ]
    },
    {
      "cell_type": "markdown",
      "metadata": {
        "id": "PcRAx-DMXegG"
      },
      "source": [
        "# Consultar las dimensiones de Data Frame - y algunas columnas básicas!"
      ]
    },
    {
      "cell_type": "code",
      "metadata": {
        "colab": {
          "base_uri": "https://localhost:8080/",
          "height": 0
        },
        "id": "Vx-hXTkDUfpq",
        "outputId": "26d210e6-c30b-407d-ee3a-46feea433088"
      },
      "source": [
        "# Consultar las dimensiones de Data Frame\n",
        "dimension_df = deepcopy(df.shape)\n",
        "print(\"Visualiza las dimensiones del Data Frame: \", df.shape)\n",
        "# Visualiza la información de las columnas de la fuente de datos, sus columnas (No, year, month,day,hour,pm2.5..., TEMP entre otras)\n",
        "display(df.info())"
      ],
      "execution_count": 89,
      "outputs": [
        {
          "output_type": "stream",
          "text": [
            "Visualiza las dimensiones del Data Frame:  (43824, 13)\n",
            "<class 'pandas.core.frame.DataFrame'>\n",
            "RangeIndex: 43824 entries, 0 to 43823\n",
            "Data columns (total 13 columns):\n",
            " #   Column  Non-Null Count  Dtype  \n",
            "---  ------  --------------  -----  \n",
            " 0   No      43824 non-null  int64  \n",
            " 1   year    43824 non-null  int64  \n",
            " 2   month   43824 non-null  int64  \n",
            " 3   day     43824 non-null  int64  \n",
            " 4   hour    43824 non-null  int64  \n",
            " 5   pm2.5   41757 non-null  float64\n",
            " 6   DEWP    43824 non-null  int64  \n",
            " 7   TEMP    43824 non-null  float64\n",
            " 8   PRES    43824 non-null  float64\n",
            " 9   cbwd    43824 non-null  object \n",
            " 10  Iws     43824 non-null  float64\n",
            " 11  Is      43824 non-null  int64  \n",
            " 12  Ir      43824 non-null  int64  \n",
            "dtypes: float64(4), int64(8), object(1)\n",
            "memory usage: 4.3+ MB\n"
          ],
          "name": "stdout"
        },
        {
          "output_type": "display_data",
          "data": {
            "text/plain": [
              "None"
            ]
          },
          "metadata": {
            "tags": []
          }
        }
      ]
    },
    {
      "cell_type": "markdown",
      "metadata": {
        "id": "8rQYdtK8XRAz"
      },
      "source": [
        "## Se visualiza algunas filas de la información de la fuente de datos!"
      ]
    },
    {
      "cell_type": "code",
      "metadata": {
        "colab": {
          "base_uri": "https://localhost:8080/",
          "height": 0
        },
        "id": "GuobimovVhQT",
        "outputId": "c91848e9-330f-4586-9eb3-75b5d6527832"
      },
      "source": [
        "df.head()"
      ],
      "execution_count": 90,
      "outputs": [
        {
          "output_type": "execute_result",
          "data": {
            "text/html": [
              "<div>\n",
              "<style scoped>\n",
              "    .dataframe tbody tr th:only-of-type {\n",
              "        vertical-align: middle;\n",
              "    }\n",
              "\n",
              "    .dataframe tbody tr th {\n",
              "        vertical-align: top;\n",
              "    }\n",
              "\n",
              "    .dataframe thead th {\n",
              "        text-align: right;\n",
              "    }\n",
              "</style>\n",
              "<table border=\"1\" class=\"dataframe\">\n",
              "  <thead>\n",
              "    <tr style=\"text-align: right;\">\n",
              "      <th></th>\n",
              "      <th>No</th>\n",
              "      <th>year</th>\n",
              "      <th>month</th>\n",
              "      <th>day</th>\n",
              "      <th>hour</th>\n",
              "      <th>pm2.5</th>\n",
              "      <th>DEWP</th>\n",
              "      <th>TEMP</th>\n",
              "      <th>PRES</th>\n",
              "      <th>cbwd</th>\n",
              "      <th>Iws</th>\n",
              "      <th>Is</th>\n",
              "      <th>Ir</th>\n",
              "    </tr>\n",
              "  </thead>\n",
              "  <tbody>\n",
              "    <tr>\n",
              "      <th>0</th>\n",
              "      <td>1</td>\n",
              "      <td>2010</td>\n",
              "      <td>1</td>\n",
              "      <td>1</td>\n",
              "      <td>0</td>\n",
              "      <td>NaN</td>\n",
              "      <td>-21</td>\n",
              "      <td>-11.0</td>\n",
              "      <td>1021.0</td>\n",
              "      <td>NW</td>\n",
              "      <td>1.79</td>\n",
              "      <td>0</td>\n",
              "      <td>0</td>\n",
              "    </tr>\n",
              "    <tr>\n",
              "      <th>1</th>\n",
              "      <td>2</td>\n",
              "      <td>2010</td>\n",
              "      <td>1</td>\n",
              "      <td>1</td>\n",
              "      <td>1</td>\n",
              "      <td>NaN</td>\n",
              "      <td>-21</td>\n",
              "      <td>-12.0</td>\n",
              "      <td>1020.0</td>\n",
              "      <td>NW</td>\n",
              "      <td>4.92</td>\n",
              "      <td>0</td>\n",
              "      <td>0</td>\n",
              "    </tr>\n",
              "    <tr>\n",
              "      <th>2</th>\n",
              "      <td>3</td>\n",
              "      <td>2010</td>\n",
              "      <td>1</td>\n",
              "      <td>1</td>\n",
              "      <td>2</td>\n",
              "      <td>NaN</td>\n",
              "      <td>-21</td>\n",
              "      <td>-11.0</td>\n",
              "      <td>1019.0</td>\n",
              "      <td>NW</td>\n",
              "      <td>6.71</td>\n",
              "      <td>0</td>\n",
              "      <td>0</td>\n",
              "    </tr>\n",
              "    <tr>\n",
              "      <th>3</th>\n",
              "      <td>4</td>\n",
              "      <td>2010</td>\n",
              "      <td>1</td>\n",
              "      <td>1</td>\n",
              "      <td>3</td>\n",
              "      <td>NaN</td>\n",
              "      <td>-21</td>\n",
              "      <td>-14.0</td>\n",
              "      <td>1019.0</td>\n",
              "      <td>NW</td>\n",
              "      <td>9.84</td>\n",
              "      <td>0</td>\n",
              "      <td>0</td>\n",
              "    </tr>\n",
              "    <tr>\n",
              "      <th>4</th>\n",
              "      <td>5</td>\n",
              "      <td>2010</td>\n",
              "      <td>1</td>\n",
              "      <td>1</td>\n",
              "      <td>4</td>\n",
              "      <td>NaN</td>\n",
              "      <td>-20</td>\n",
              "      <td>-12.0</td>\n",
              "      <td>1018.0</td>\n",
              "      <td>NW</td>\n",
              "      <td>12.97</td>\n",
              "      <td>0</td>\n",
              "      <td>0</td>\n",
              "    </tr>\n",
              "  </tbody>\n",
              "</table>\n",
              "</div>"
            ],
            "text/plain": [
              "   No  year  month  day  hour  pm2.5  DEWP  TEMP    PRES cbwd    Iws  Is  Ir\n",
              "0   1  2010      1    1     0    NaN   -21 -11.0  1021.0   NW   1.79   0   0\n",
              "1   2  2010      1    1     1    NaN   -21 -12.0  1020.0   NW   4.92   0   0\n",
              "2   3  2010      1    1     2    NaN   -21 -11.0  1019.0   NW   6.71   0   0\n",
              "3   4  2010      1    1     3    NaN   -21 -14.0  1019.0   NW   9.84   0   0\n",
              "4   5  2010      1    1     4    NaN   -20 -12.0  1018.0   NW  12.97   0   0"
            ]
          },
          "metadata": {
            "tags": []
          },
          "execution_count": 90
        }
      ]
    },
    {
      "cell_type": "markdown",
      "metadata": {
        "id": "_W-yB7GzYxDW"
      },
      "source": [
        "# se visualizan algunos caracteristicas estadísticas de importancia."
      ]
    },
    {
      "cell_type": "code",
      "metadata": {
        "colab": {
          "base_uri": "https://localhost:8080/",
          "height": 0
        },
        "id": "iLWf5CD_YNTs",
        "outputId": "4bd082d1-e23d-4d16-b93f-92aa5b4b5e38"
      },
      "source": [
        "# se visualizan algunos caracteristicas -estadísticas de importancia. \n",
        "df.describe()"
      ],
      "execution_count": 91,
      "outputs": [
        {
          "output_type": "execute_result",
          "data": {
            "text/html": [
              "<div>\n",
              "<style scoped>\n",
              "    .dataframe tbody tr th:only-of-type {\n",
              "        vertical-align: middle;\n",
              "    }\n",
              "\n",
              "    .dataframe tbody tr th {\n",
              "        vertical-align: top;\n",
              "    }\n",
              "\n",
              "    .dataframe thead th {\n",
              "        text-align: right;\n",
              "    }\n",
              "</style>\n",
              "<table border=\"1\" class=\"dataframe\">\n",
              "  <thead>\n",
              "    <tr style=\"text-align: right;\">\n",
              "      <th></th>\n",
              "      <th>No</th>\n",
              "      <th>year</th>\n",
              "      <th>month</th>\n",
              "      <th>day</th>\n",
              "      <th>hour</th>\n",
              "      <th>pm2.5</th>\n",
              "      <th>DEWP</th>\n",
              "      <th>TEMP</th>\n",
              "      <th>PRES</th>\n",
              "      <th>Iws</th>\n",
              "      <th>Is</th>\n",
              "      <th>Ir</th>\n",
              "    </tr>\n",
              "  </thead>\n",
              "  <tbody>\n",
              "    <tr>\n",
              "      <th>count</th>\n",
              "      <td>43824.000000</td>\n",
              "      <td>43824.000000</td>\n",
              "      <td>43824.000000</td>\n",
              "      <td>43824.000000</td>\n",
              "      <td>43824.000000</td>\n",
              "      <td>41757.000000</td>\n",
              "      <td>43824.000000</td>\n",
              "      <td>43824.000000</td>\n",
              "      <td>43824.000000</td>\n",
              "      <td>43824.000000</td>\n",
              "      <td>43824.000000</td>\n",
              "      <td>43824.000000</td>\n",
              "    </tr>\n",
              "    <tr>\n",
              "      <th>mean</th>\n",
              "      <td>21912.500000</td>\n",
              "      <td>2012.000000</td>\n",
              "      <td>6.523549</td>\n",
              "      <td>15.727820</td>\n",
              "      <td>11.500000</td>\n",
              "      <td>98.613215</td>\n",
              "      <td>1.817246</td>\n",
              "      <td>12.448521</td>\n",
              "      <td>1016.447654</td>\n",
              "      <td>23.889140</td>\n",
              "      <td>0.052734</td>\n",
              "      <td>0.194916</td>\n",
              "    </tr>\n",
              "    <tr>\n",
              "      <th>std</th>\n",
              "      <td>12651.043435</td>\n",
              "      <td>1.413842</td>\n",
              "      <td>3.448572</td>\n",
              "      <td>8.799425</td>\n",
              "      <td>6.922266</td>\n",
              "      <td>92.050387</td>\n",
              "      <td>14.433440</td>\n",
              "      <td>12.198613</td>\n",
              "      <td>10.268698</td>\n",
              "      <td>50.010635</td>\n",
              "      <td>0.760375</td>\n",
              "      <td>1.415867</td>\n",
              "    </tr>\n",
              "    <tr>\n",
              "      <th>min</th>\n",
              "      <td>1.000000</td>\n",
              "      <td>2010.000000</td>\n",
              "      <td>1.000000</td>\n",
              "      <td>1.000000</td>\n",
              "      <td>0.000000</td>\n",
              "      <td>0.000000</td>\n",
              "      <td>-40.000000</td>\n",
              "      <td>-19.000000</td>\n",
              "      <td>991.000000</td>\n",
              "      <td>0.450000</td>\n",
              "      <td>0.000000</td>\n",
              "      <td>0.000000</td>\n",
              "    </tr>\n",
              "    <tr>\n",
              "      <th>25%</th>\n",
              "      <td>10956.750000</td>\n",
              "      <td>2011.000000</td>\n",
              "      <td>4.000000</td>\n",
              "      <td>8.000000</td>\n",
              "      <td>5.750000</td>\n",
              "      <td>29.000000</td>\n",
              "      <td>-10.000000</td>\n",
              "      <td>2.000000</td>\n",
              "      <td>1008.000000</td>\n",
              "      <td>1.790000</td>\n",
              "      <td>0.000000</td>\n",
              "      <td>0.000000</td>\n",
              "    </tr>\n",
              "    <tr>\n",
              "      <th>50%</th>\n",
              "      <td>21912.500000</td>\n",
              "      <td>2012.000000</td>\n",
              "      <td>7.000000</td>\n",
              "      <td>16.000000</td>\n",
              "      <td>11.500000</td>\n",
              "      <td>72.000000</td>\n",
              "      <td>2.000000</td>\n",
              "      <td>14.000000</td>\n",
              "      <td>1016.000000</td>\n",
              "      <td>5.370000</td>\n",
              "      <td>0.000000</td>\n",
              "      <td>0.000000</td>\n",
              "    </tr>\n",
              "    <tr>\n",
              "      <th>75%</th>\n",
              "      <td>32868.250000</td>\n",
              "      <td>2013.000000</td>\n",
              "      <td>10.000000</td>\n",
              "      <td>23.000000</td>\n",
              "      <td>17.250000</td>\n",
              "      <td>137.000000</td>\n",
              "      <td>15.000000</td>\n",
              "      <td>23.000000</td>\n",
              "      <td>1025.000000</td>\n",
              "      <td>21.910000</td>\n",
              "      <td>0.000000</td>\n",
              "      <td>0.000000</td>\n",
              "    </tr>\n",
              "    <tr>\n",
              "      <th>max</th>\n",
              "      <td>43824.000000</td>\n",
              "      <td>2014.000000</td>\n",
              "      <td>12.000000</td>\n",
              "      <td>31.000000</td>\n",
              "      <td>23.000000</td>\n",
              "      <td>994.000000</td>\n",
              "      <td>28.000000</td>\n",
              "      <td>42.000000</td>\n",
              "      <td>1046.000000</td>\n",
              "      <td>585.600000</td>\n",
              "      <td>27.000000</td>\n",
              "      <td>36.000000</td>\n",
              "    </tr>\n",
              "  </tbody>\n",
              "</table>\n",
              "</div>"
            ],
            "text/plain": [
              "                 No          year         month           day          hour  \\\n",
              "count  43824.000000  43824.000000  43824.000000  43824.000000  43824.000000   \n",
              "mean   21912.500000   2012.000000      6.523549     15.727820     11.500000   \n",
              "std    12651.043435      1.413842      3.448572      8.799425      6.922266   \n",
              "min        1.000000   2010.000000      1.000000      1.000000      0.000000   \n",
              "25%    10956.750000   2011.000000      4.000000      8.000000      5.750000   \n",
              "50%    21912.500000   2012.000000      7.000000     16.000000     11.500000   \n",
              "75%    32868.250000   2013.000000     10.000000     23.000000     17.250000   \n",
              "max    43824.000000   2014.000000     12.000000     31.000000     23.000000   \n",
              "\n",
              "              pm2.5          DEWP          TEMP          PRES           Iws  \\\n",
              "count  41757.000000  43824.000000  43824.000000  43824.000000  43824.000000   \n",
              "mean      98.613215      1.817246     12.448521   1016.447654     23.889140   \n",
              "std       92.050387     14.433440     12.198613     10.268698     50.010635   \n",
              "min        0.000000    -40.000000    -19.000000    991.000000      0.450000   \n",
              "25%       29.000000    -10.000000      2.000000   1008.000000      1.790000   \n",
              "50%       72.000000      2.000000     14.000000   1016.000000      5.370000   \n",
              "75%      137.000000     15.000000     23.000000   1025.000000     21.910000   \n",
              "max      994.000000     28.000000     42.000000   1046.000000    585.600000   \n",
              "\n",
              "                 Is            Ir  \n",
              "count  43824.000000  43824.000000  \n",
              "mean       0.052734      0.194916  \n",
              "std        0.760375      1.415867  \n",
              "min        0.000000      0.000000  \n",
              "25%        0.000000      0.000000  \n",
              "50%        0.000000      0.000000  \n",
              "75%        0.000000      0.000000  \n",
              "max       27.000000     36.000000  "
            ]
          },
          "metadata": {
            "tags": []
          },
          "execution_count": 91
        }
      ]
    },
    {
      "cell_type": "markdown",
      "metadata": {
        "id": "Qc-PlluUa5cl"
      },
      "source": [
        "# PUNTO 1. Diga qué índices serían pertinentes tener y pongalos.\n",
        "  Generar un campo fecha a partir de las columnas year,month,day es un campo para referenciar mejor la cronología de los datos fuentes.\n",
        " * ===> Concatenar year-month-day Hora, para generar un campo tipo fecha.\n",
        " * ===> Visualiza el nuevo campo de \"fecha\" en el Data Frame\n",
        "\n",
        " * RTA: - Mediante una serie de tiempos, se concatenan los campos correspondientes a fecha y hora  para lograr la unicidad de cada registro, el resultado de esta concatenación es identificado como el indice de trabajo de Set de datos para las tarea consecuentes.\n",
        " "
      ]
    },
    {
      "cell_type": "code",
      "metadata": {
        "id": "gSr_cWcOY0za"
      },
      "source": [
        "def format_fecha(hora):\n",
        "  if hora < 10:\n",
        "      hora_str = \"0{}\".format(hora)\n",
        "  else:\n",
        "      hora_str = \"{}\".format(hora)\n",
        "  return hora_str\n",
        "\n",
        "# Generar un campo fecha a partir de las columnas year,month,day es un campo para referenciar mejor la cronologia de los datos\n",
        "df[\"fecha\"] =  pd.to_datetime(\n",
        "      df['year'].map(str) + \"-\" + \n",
        "      df['month'].map(str) + \"-\" + \n",
        "      df['day'].map(str) + \" \" + \n",
        "      df['hour'].map(format_fecha), \n",
        "      format=\"%Y-%m-%d %H\"\n",
        "    )\n",
        "# Asignar un indice al campo fecha construido\n",
        "df = df.set_index(\"fecha\")"
      ],
      "execution_count": 92,
      "outputs": []
    },
    {
      "cell_type": "code",
      "metadata": {
        "colab": {
          "base_uri": "https://localhost:8080/",
          "height": 0
        },
        "id": "yLqC4HPlcbKD",
        "outputId": "ac993d3f-4aa9-42fb-be91-d3c8076795b4"
      },
      "source": [
        "# Visualiza el nuevo campo de fecha en el Data Frame\n",
        "df.tail()"
      ],
      "execution_count": 93,
      "outputs": [
        {
          "output_type": "execute_result",
          "data": {
            "text/html": [
              "<div>\n",
              "<style scoped>\n",
              "    .dataframe tbody tr th:only-of-type {\n",
              "        vertical-align: middle;\n",
              "    }\n",
              "\n",
              "    .dataframe tbody tr th {\n",
              "        vertical-align: top;\n",
              "    }\n",
              "\n",
              "    .dataframe thead th {\n",
              "        text-align: right;\n",
              "    }\n",
              "</style>\n",
              "<table border=\"1\" class=\"dataframe\">\n",
              "  <thead>\n",
              "    <tr style=\"text-align: right;\">\n",
              "      <th></th>\n",
              "      <th>No</th>\n",
              "      <th>year</th>\n",
              "      <th>month</th>\n",
              "      <th>day</th>\n",
              "      <th>hour</th>\n",
              "      <th>pm2.5</th>\n",
              "      <th>DEWP</th>\n",
              "      <th>TEMP</th>\n",
              "      <th>PRES</th>\n",
              "      <th>cbwd</th>\n",
              "      <th>Iws</th>\n",
              "      <th>Is</th>\n",
              "      <th>Ir</th>\n",
              "    </tr>\n",
              "    <tr>\n",
              "      <th>fecha</th>\n",
              "      <th></th>\n",
              "      <th></th>\n",
              "      <th></th>\n",
              "      <th></th>\n",
              "      <th></th>\n",
              "      <th></th>\n",
              "      <th></th>\n",
              "      <th></th>\n",
              "      <th></th>\n",
              "      <th></th>\n",
              "      <th></th>\n",
              "      <th></th>\n",
              "      <th></th>\n",
              "    </tr>\n",
              "  </thead>\n",
              "  <tbody>\n",
              "    <tr>\n",
              "      <th>2014-12-31 19:00:00</th>\n",
              "      <td>43820</td>\n",
              "      <td>2014</td>\n",
              "      <td>12</td>\n",
              "      <td>31</td>\n",
              "      <td>19</td>\n",
              "      <td>8.0</td>\n",
              "      <td>-23</td>\n",
              "      <td>-2.0</td>\n",
              "      <td>1034.0</td>\n",
              "      <td>NW</td>\n",
              "      <td>231.97</td>\n",
              "      <td>0</td>\n",
              "      <td>0</td>\n",
              "    </tr>\n",
              "    <tr>\n",
              "      <th>2014-12-31 20:00:00</th>\n",
              "      <td>43821</td>\n",
              "      <td>2014</td>\n",
              "      <td>12</td>\n",
              "      <td>31</td>\n",
              "      <td>20</td>\n",
              "      <td>10.0</td>\n",
              "      <td>-22</td>\n",
              "      <td>-3.0</td>\n",
              "      <td>1034.0</td>\n",
              "      <td>NW</td>\n",
              "      <td>237.78</td>\n",
              "      <td>0</td>\n",
              "      <td>0</td>\n",
              "    </tr>\n",
              "    <tr>\n",
              "      <th>2014-12-31 21:00:00</th>\n",
              "      <td>43822</td>\n",
              "      <td>2014</td>\n",
              "      <td>12</td>\n",
              "      <td>31</td>\n",
              "      <td>21</td>\n",
              "      <td>10.0</td>\n",
              "      <td>-22</td>\n",
              "      <td>-3.0</td>\n",
              "      <td>1034.0</td>\n",
              "      <td>NW</td>\n",
              "      <td>242.70</td>\n",
              "      <td>0</td>\n",
              "      <td>0</td>\n",
              "    </tr>\n",
              "    <tr>\n",
              "      <th>2014-12-31 22:00:00</th>\n",
              "      <td>43823</td>\n",
              "      <td>2014</td>\n",
              "      <td>12</td>\n",
              "      <td>31</td>\n",
              "      <td>22</td>\n",
              "      <td>8.0</td>\n",
              "      <td>-22</td>\n",
              "      <td>-4.0</td>\n",
              "      <td>1034.0</td>\n",
              "      <td>NW</td>\n",
              "      <td>246.72</td>\n",
              "      <td>0</td>\n",
              "      <td>0</td>\n",
              "    </tr>\n",
              "    <tr>\n",
              "      <th>2014-12-31 23:00:00</th>\n",
              "      <td>43824</td>\n",
              "      <td>2014</td>\n",
              "      <td>12</td>\n",
              "      <td>31</td>\n",
              "      <td>23</td>\n",
              "      <td>12.0</td>\n",
              "      <td>-21</td>\n",
              "      <td>-3.0</td>\n",
              "      <td>1034.0</td>\n",
              "      <td>NW</td>\n",
              "      <td>249.85</td>\n",
              "      <td>0</td>\n",
              "      <td>0</td>\n",
              "    </tr>\n",
              "  </tbody>\n",
              "</table>\n",
              "</div>"
            ],
            "text/plain": [
              "                        No  year  month  day  hour  pm2.5  DEWP  TEMP    PRES  \\\n",
              "fecha                                                                           \n",
              "2014-12-31 19:00:00  43820  2014     12   31    19    8.0   -23  -2.0  1034.0   \n",
              "2014-12-31 20:00:00  43821  2014     12   31    20   10.0   -22  -3.0  1034.0   \n",
              "2014-12-31 21:00:00  43822  2014     12   31    21   10.0   -22  -3.0  1034.0   \n",
              "2014-12-31 22:00:00  43823  2014     12   31    22    8.0   -22  -4.0  1034.0   \n",
              "2014-12-31 23:00:00  43824  2014     12   31    23   12.0   -21  -3.0  1034.0   \n",
              "\n",
              "                    cbwd     Iws  Is  Ir  \n",
              "fecha                                     \n",
              "2014-12-31 19:00:00   NW  231.97   0   0  \n",
              "2014-12-31 20:00:00   NW  237.78   0   0  \n",
              "2014-12-31 21:00:00   NW  242.70   0   0  \n",
              "2014-12-31 22:00:00   NW  246.72   0   0  \n",
              "2014-12-31 23:00:00   NW  249.85   0   0  "
            ]
          },
          "metadata": {
            "tags": []
          },
          "execution_count": 93
        }
      ]
    },
    {
      "cell_type": "markdown",
      "metadata": {
        "id": "R8UNKGxbgiZu"
      },
      "source": [
        "# PUNTO 2. Elimine registros que tengan NA en la columna \"pm2.5\""
      ]
    },
    {
      "cell_type": "code",
      "metadata": {
        "colab": {
          "base_uri": "https://localhost:8080/"
        },
        "id": "TFGdJ6_wdnXm",
        "outputId": "27ed5861-9993-46a1-d636-c5bf85ced1a9"
      },
      "source": [
        "# se identifica la columna pm2.5 y se remueve de data frame\n",
        "df.dropna(subset=['pm2.5'],inplace=True)\n",
        "dimension_df1 = df.shape\n",
        "print(\"Se eliminaron {} los datos pm2.5 identificados como NaN\".format(dimension_df[0] - dimension_df1[0]))\n",
        "print(\"la nueva cantidad de registros es: \", dimension_df1)\n"
      ],
      "execution_count": 94,
      "outputs": [
        {
          "output_type": "stream",
          "text": [
            "Se eliminaron 2067 los datos pm2.5 identificados como NaN\n",
            "la nueva cantidad de registros es:  (41757, 13)\n"
          ],
          "name": "stdout"
        }
      ]
    },
    {
      "cell_type": "markdown",
      "metadata": {
        "id": "DFwfuzZy8F_D"
      },
      "source": [
        "* RTA: Despues de ejecutar el procedimiento de limpieza de los datos identificados como NaN en la columna pm2.5, se eliminaron 2.067 registros quedando un nuevo conjunto de datos de: 41.757 registros. "
      ]
    },
    {
      "cell_type": "markdown",
      "metadata": {
        "id": "yyK92uTkmDLL"
      },
      "source": [
        "# PUNTO 3. Realice una descripción de todas las variables por año. Además de realizar un gráfico como \"boxplot\" con el que pueda comparar los resultados dados.\n",
        " ** Distribución de pm2.5 por años\n",
        "\n",
        " RTA: Los rangos intercuartilicos de la gráfica de PM2.5, en  los años tiene un comportamiento parecido, sin una variación determinante de su mediana. en la muestra de PM2.5. En el año 2012  se nota valores atipicos que afectan la mediana ponderada.\n",
        "\n",
        " - Para la gráfica de temperatura, los valores de su mediana por años son diferenciales y en el 2012 su valor supera los 11 grados.\n",
        "\n"
      ]
    },
    {
      "cell_type": "code",
      "metadata": {
        "colab": {
          "base_uri": "https://localhost:8080/",
          "height": 0
        },
        "id": "3P0sw6rHk4hI",
        "outputId": "caa464f2-53d6-42f9-a8c7-661726b4427a"
      },
      "source": [
        "for year in range(df['year'].min(), df['year'].max()):\n",
        "  print(\"Descripción de la variable pm2.5 para el año\", year)\n",
        "  print(\"-\"*25)\n",
        "  display(df[df[\"year\"]== year] [\"pm2.5\"].describe(include='all'))"
      ],
      "execution_count": 95,
      "outputs": [
        {
          "output_type": "stream",
          "text": [
            "Descripción de la variable pm2.5 para el año 2010\n",
            "-------------------------\n"
          ],
          "name": "stdout"
        },
        {
          "output_type": "display_data",
          "data": {
            "text/plain": [
              "count    8091.000000\n",
              "mean      104.045730\n",
              "std        92.281185\n",
              "min         1.000000\n",
              "25%        35.000000\n",
              "50%        79.000000\n",
              "75%       147.000000\n",
              "max       980.000000\n",
              "Name: pm2.5, dtype: float64"
            ]
          },
          "metadata": {
            "tags": []
          }
        },
        {
          "output_type": "stream",
          "text": [
            "Descripción de la variable pm2.5 para el año 2011\n",
            "-------------------------\n"
          ],
          "name": "stdout"
        },
        {
          "output_type": "display_data",
          "data": {
            "text/plain": [
              "count    8032.000000\n",
              "mean       99.071340\n",
              "std        92.967298\n",
              "min         2.000000\n",
              "25%        27.000000\n",
              "50%        71.000000\n",
              "75%       139.000000\n",
              "max       595.000000\n",
              "Name: pm2.5, dtype: float64"
            ]
          },
          "metadata": {
            "tags": []
          }
        },
        {
          "output_type": "stream",
          "text": [
            "Descripción de la variable pm2.5 para el año 2012\n",
            "-------------------------\n"
          ],
          "name": "stdout"
        },
        {
          "output_type": "display_data",
          "data": {
            "text/plain": [
              "count    8295.000000\n",
              "mean       90.545871\n",
              "std        81.745087\n",
              "min         0.000000\n",
              "25%        25.000000\n",
              "50%        69.000000\n",
              "75%       132.000000\n",
              "max       994.000000\n",
              "Name: pm2.5, dtype: float64"
            ]
          },
          "metadata": {
            "tags": []
          }
        },
        {
          "output_type": "stream",
          "text": [
            "Descripción de la variable pm2.5 para el año 2013\n",
            "-------------------------\n"
          ],
          "name": "stdout"
        },
        {
          "output_type": "display_data",
          "data": {
            "text/plain": [
              "count    8678.000000\n",
              "mean      101.712376\n",
              "std        98.070477\n",
              "min         2.000000\n",
              "25%        32.000000\n",
              "50%        71.500000\n",
              "75%       138.000000\n",
              "max       886.000000\n",
              "Name: pm2.5, dtype: float64"
            ]
          },
          "metadata": {
            "tags": []
          }
        }
      ]
    },
    {
      "cell_type": "markdown",
      "metadata": {
        "id": "HFpDI1EC3f1U"
      },
      "source": [
        "#### Crear una gráfica boxplot para pm2.5 por años"
      ]
    },
    {
      "cell_type": "code",
      "metadata": {
        "colab": {
          "base_uri": "https://localhost:8080/",
          "height": 0
        },
        "id": "fgEphMEQrcm2",
        "outputId": "78071d40-afd7-4af1-e3cc-273d0bc67226"
      },
      "source": [
        "# Crear una gráfica boxplot para pm2.5\n",
        "plt.figure(figsize=(14,8))\n",
        "ax = sbn.boxplot(x=\"year\", y=\"pm2.5\",  data=df,palette=[\"m\", \"g\"])\n",
        "ax.set_title('Boxplot <--> PM2.5')\n",
        "ax.yaxis.grid(True)\n",
        "# Mostrar la figura\n",
        "plt.show()"
      ],
      "execution_count": 96,
      "outputs": [
        {
          "output_type": "display_data",
          "data": {
            "image/png": "[encoded data removed]",
            "text/plain": [
              "<Figure size 1008x576 with 1 Axes>"
            ]
          },
          "metadata": {
            "tags": [],
            "needs_background": "light"
          }
        }
      ]
    },
    {
      "cell_type": "markdown",
      "metadata": {
        "id": "r92PlQ3fioVZ"
      },
      "source": [
        " ** Distribución de la variable TEMP por años\n"
      ]
    },
    {
      "cell_type": "code",
      "metadata": {
        "colab": {
          "base_uri": "https://localhost:8080/",
          "height": 0
        },
        "id": "tZdHsL4iiwWQ",
        "outputId": "48b5c766-172f-4572-e488-1c782447992f"
      },
      "source": [
        "for year in range(df['year'].min(), df['year'].max()):\n",
        "  print(\"Descripción de la varibale TEMP para el año\", year)\n",
        "  print(\"-\"*25)\n",
        "  display(df[df[\"year\"]== year] [\"TEMP\"].describe(include='all'))"
      ],
      "execution_count": 97,
      "outputs": [
        {
          "output_type": "stream",
          "text": [
            "Descripción de la varibale TEMP para el año 2010\n",
            "-------------------------\n"
          ],
          "name": "stdout"
        },
        {
          "output_type": "display_data",
          "data": {
            "text/plain": [
              "count    8091.000000\n",
              "mean       11.313805\n",
              "std        12.684701\n",
              "min       -19.000000\n",
              "25%         0.000000\n",
              "50%        11.000000\n",
              "75%        23.000000\n",
              "max        41.000000\n",
              "Name: TEMP, dtype: float64"
            ]
          },
          "metadata": {
            "tags": []
          }
        },
        {
          "output_type": "stream",
          "text": [
            "Descripción de la varibale TEMP para el año 2011\n",
            "-------------------------\n"
          ],
          "name": "stdout"
        },
        {
          "output_type": "display_data",
          "data": {
            "text/plain": [
              "count    8032.000000\n",
              "mean       12.407869\n",
              "std        12.095837\n",
              "min       -15.000000\n",
              "25%         2.000000\n",
              "50%        14.000000\n",
              "75%        23.000000\n",
              "max        36.000000\n",
              "Name: TEMP, dtype: float64"
            ]
          },
          "metadata": {
            "tags": []
          }
        },
        {
          "output_type": "stream",
          "text": [
            "Descripción de la varibale TEMP para el año 2012\n",
            "-------------------------\n"
          ],
          "name": "stdout"
        },
        {
          "output_type": "display_data",
          "data": {
            "text/plain": [
              "count    8295.000000\n",
              "mean       12.109946\n",
              "std        12.339970\n",
              "min       -17.000000\n",
              "25%         1.000000\n",
              "50%        14.000000\n",
              "75%        23.000000\n",
              "max        38.000000\n",
              "Name: TEMP, dtype: float64"
            ]
          },
          "metadata": {
            "tags": []
          }
        },
        {
          "output_type": "stream",
          "text": [
            "Descripción de la varibale TEMP para el año 2013\n",
            "-------------------------\n"
          ],
          "name": "stdout"
        },
        {
          "output_type": "display_data",
          "data": {
            "text/plain": [
              "count    8678.000000\n",
              "mean       12.383614\n",
              "std        12.033222\n",
              "min       -17.000000\n",
              "25%         2.000000\n",
              "50%        13.000000\n",
              "75%        23.000000\n",
              "max        38.000000\n",
              "Name: TEMP, dtype: float64"
            ]
          },
          "metadata": {
            "tags": []
          }
        }
      ]
    },
    {
      "cell_type": "markdown",
      "metadata": {
        "id": "XAYuJa0e1qJv"
      },
      "source": [
        "### Grafica de temperatura variables TEMP"
      ]
    },
    {
      "cell_type": "code",
      "metadata": {
        "colab": {
          "base_uri": "https://localhost:8080/",
          "height": 0
        },
        "id": "h0C8H5ko1zfv",
        "outputId": "dbb901a5-fd6b-4e07-8609-80b9b387e8e5"
      },
      "source": [
        "# Crear una gráfica boxplot para pm2.5\n",
        "plt.figure(figsize=(14,8))\n",
        "ax = sbn.boxplot(x=\"year\", y=\"TEMP\",  data=df,palette=[\"r\", \"b\"])\n",
        "ax.set_title('Boxplot <--> TEMP')\n",
        "ax.yaxis.grid(True)\n",
        "# Mostrar la figura\n",
        "plt.show()"
      ],
      "execution_count": 98,
      "outputs": [
        {
          "output_type": "display_data",
          "data": {
            "image/png": "[encoded data removed]",
            "text/plain": [
              "<Figure size 1008x576 with 1 Axes>"
            ]
          },
          "metadata": {
            "tags": [],
            "needs_background": "light"
          }
        }
      ]
    },
    {
      "cell_type": "markdown",
      "metadata": {
        "id": "rfYX3Vhp1ucw"
      },
      "source": [
        "# PUNTO 4 - Realice un gráfico de dispersión de las variables \"pm2.5\" y \"TEMP\" con título, labels apropiados y color rojo para los datos. \n",
        "\n",
        "\n",
        "* RTA: \n",
        " - 1. Para la gráfica de dispersión entre PM2.5 y Temperatura.... podemos inferir que con los datos trabajo, no existe una relación entre las variable !\n",
        "  - 2. Sin embargo a  graficar al graficar pm2.5 con las variables \n",
        "    * Iws: Velocidad del viento acumulada (m/s)\n",
        "    * Ir: Horas acumuladas de lluvia\n",
        "* Si se puede inferir que tienen un comportamiento a una función mas concreta que se puede orientar su parecido a una exponencial negativa o a una grafica de pareto.  \n",
        "\n"
      ]
    },
    {
      "cell_type": "code",
      "metadata": {
        "colab": {
          "base_uri": "https://localhost:8080/",
          "height": 1000
        },
        "id": "Ac9Loke4uQAl",
        "outputId": "bd4d35ee-775d-437e-a1e3-46142588c078"
      },
      "source": [
        "# Realizar el Gráfico de Dispersión\n",
        "tamanios=[30,60]\n",
        "\n",
        "#Seleccion del conjunto de datos para representarlo en el plano cartesiano.\n",
        "y = df[\"pm2.5\"].values # datos pm2.5 de DataFrame\n",
        "\n",
        "x = df[\"TEMP\"].values # Permeabilidad (mts/dias).\n",
        "x1 = df[\"Iws\"].values # Velocidad del viento acumulado\n",
        "x2 = df[\"Ir\"].values # horas acumuladas de lluvias \n",
        "\n",
        "\n",
        "#Dibujar el conjunto de datos en el plano\n",
        "fig, ax = plt.subplots(1,1, figsize=(10, 5))\n",
        "ax.scatter(x, y, c='r', marker='*')\n",
        "ax.set_title('Gráfico de dispersión pm2.5 vs TEMP')\n",
        "ax.set_ylabel(\"PM2.5\")\n",
        "ax.set_xlabel(\"TEMP\")\n",
        "ax.yaxis.grid(True)\n",
        "\n",
        "#Dibujar el conjunto de datos en el plano\n",
        "fig, ax = plt.subplots(1,1, figsize=(10, 5))\n",
        "ax.scatter(x1, y, c='y', marker='*')\n",
        "ax.set_title('Gráfico de dispersión pm2.5 vs Velocidad del viento acumulada (m/s)')\n",
        "ax.set_ylabel(\"PM2.5\")\n",
        "ax.set_xlabel(\"Velocidad del viento acumulada (m/s)\")\n",
        "ax.yaxis.grid(True)\n",
        "\n",
        "#Dibujar el conjunto de datos en el plano\n",
        "fig, ax = plt.subplots(1,1, figsize=(10, 5))\n",
        "ax.scatter(x2, y, c='b', marker='*')\n",
        "ax.set_title('Gráfico de dispersión pm2.5 vs horas acumuladas de lluvia')\n",
        "ax.set_ylabel(\"PM2.5\")\n",
        "ax.set_xlabel(\"horas acumuladas de lluvias\")\n",
        "ax.yaxis.grid(True)\n",
        "\n",
        "\n",
        "\n",
        "plt.show()"
      ],
      "execution_count": 99,
      "outputs": [
        {
          "output_type": "display_data",
          "data": {
            "image/png": "[encoded data removed]",
            "text/plain": [
              "<Figure size 720x360 with 1 Axes>"
            ]
          },
          "metadata": {
            "tags": [],
            "needs_background": "light"
          }
        },
        {
          "output_type": "display_data",
          "data": {
            "image/png": "[encoded data removed]",
            "text/plain": [
              "<Figure size 720x360 with 1 Axes>"
            ]
          },
          "metadata": {
            "tags": [],
            "needs_background": "light"
          }
        },
        {
          "output_type": "display_data",
          "data": {
            "image/png": "[encoded data removed]",
            "text/plain": [
              "<Figure size 720x360 with 1 Axes>"
            ]
          },
          "metadata": {
            "tags": [],
            "needs_background": "light"
          }
        }
      ]
    },
    {
      "cell_type": "markdown",
      "metadata": {
        "id": "ULZBf1kD_evC"
      },
      "source": [
        "# PUNTO 5: Calcule la probabilidad de encontrar en la base de datos el valor de pm2.5 encima de 120\n",
        "\n",
        "* Miremos primero la distribución de frecuencia de la variable pm2.5 y miramos su comportamiento.\n"
      ]
    },
    {
      "cell_type": "code",
      "metadata": {
        "id": "Oc0RWcoG7xzy",
        "colab": {
          "base_uri": "https://localhost:8080/",
          "height": 279
        },
        "outputId": "266afdd1-54b7-4942-f25e-930822b6a7ec"
      },
      "source": [
        "## Histograma de frecuencia de PM2.5\n",
        "\n",
        "plt.figure(figsize=(7,4))\n",
        "sbn.histplot(data=df, x=\"pm2.5\", kde=True)\n",
        "plt.show()"
      ],
      "execution_count": 100,
      "outputs": [
        {
          "output_type": "display_data",
          "data": {
            "image/png": "[encoded data removed]",
            "text/plain": [
              "<Figure size 504x288 with 1 Axes>"
            ]
          },
          "metadata": {
            "tags": [],
            "needs_background": "light"
          }
        }
      ]
    },
    {
      "cell_type": "markdown",
      "metadata": {
        "id": "AyrJOwXWNFDs"
      },
      "source": [
        "\n",
        "* si miramos la desviación estandar de la muestra de pm2.5 observamos...."
      ]
    },
    {
      "cell_type": "code",
      "metadata": {
        "colab": {
          "base_uri": "https://localhost:8080/"
        },
        "id": "TBmPfBmxNN6r",
        "outputId": "f5dc15c9-bbcd-4622-cd77-402f16e7b292"
      },
      "source": [
        "\n",
        "\n",
        "#Seleccion del conjunto de datos para representarlo en el plano cartesiano.\n",
        "y = df[\"pm2.5\"].values # datos pm2.5 de DataFrame\n",
        "#print(y)\n",
        "mu = np.mean(y)\n",
        "sigma  = np.std(y) # Distribución estandar\n",
        "\n",
        "print(\"La media de pm2.5 es: \",mu)\n",
        "print(\"La desviación Estandar de pm2.5 es: \",sigma)"
      ],
      "execution_count": 101,
      "outputs": [
        {
          "output_type": "stream",
          "text": [
            "La media de pm2.5 es:  98.61321455085375\n",
            "La desviación Estandar de pm2.5 es:  92.04928496759753\n"
          ],
          "name": "stdout"
        }
      ]
    },
    {
      "cell_type": "markdown",
      "metadata": {
        "id": "l3oR3-39P4xF"
      },
      "source": [
        "* Con base en la Desv estandar podemos inferir que el rango de valores de la distribución de los datos de la muestra se encuentran en el rango entre [0 y 200] aprox. de los valores de la variale pm2.5"
      ]
    },
    {
      "cell_type": "code",
      "metadata": {
        "colab": {
          "base_uri": "https://localhost:8080/",
          "height": 295
        },
        "id": "P2biFBVGcBp4",
        "outputId": "bfbdfb2e-4879-4be8-8ec7-b67cc8f3ac33"
      },
      "source": [
        "# Graficando histograma\n",
        "\n",
        "# histograma de distribución normal.\n",
        "cuenta, cajas, ignorar = plt.hist(y, 20)\n",
        "plt.ylabel('frequencia')\n",
        "plt.xlabel('valores pm2.5')\n",
        "plt.title('Histograma')\n",
        "plt.show()"
      ],
      "execution_count": 102,
      "outputs": [
        {
          "output_type": "display_data",
          "data": {
            "image/png": "[encoded data removed]",
            "text/plain": [
              "<Figure size 432x288 with 1 Axes>"
            ]
          },
          "metadata": {
            "tags": [],
            "needs_background": "light"
          }
        }
      ]
    },
    {
      "cell_type": "code",
      "metadata": {
        "colab": {
          "base_uri": "https://localhost:8080/"
        },
        "id": "WTtfc9MPx1Qn",
        "outputId": "9d129e87-0939-4461-b97f-1a4869aa0cfe"
      },
      "source": [
        "# Una función para calcular la frecuencia de los datos\n",
        "\n",
        "def CountFrecuency(my_list):\n",
        "  freq = {}\n",
        "  for item in my_list:\n",
        "    if (item in freq):\n",
        "        freq[item] += 1\n",
        "    else:\n",
        "      freq[item] = 1\n",
        "  return freq\n",
        "\n",
        "\n",
        "  # Imprimir las frecuencia\n",
        "frec = CountFrecuency(y) # buscar las frecuencias de los datos de la variable pm2.5\n",
        "for key, value in frec.items():\n",
        "  print(\"key: %d, valor: %d\"%(key, value))\n",
        "\n",
        "# Sacar la probabilidad de f_mayor_120\n",
        " \n",
        "f_mayor_120 = [x for x in y if x>120]\n",
        "print(\"longitud de y\",len(y))\n",
        "print(\"longitud ----------------- de y mayores 120 %d\",len(f_mayor_120))\n",
        "prob_f_mayor_120 = len(f_mayor_120) / len(y) \n",
        "print(\"Prob [f mayor que 120]=  \",prob_f_mayor_120)\n"
      ],
      "execution_count": 103,
      "outputs": [
        {
          "output_type": "stream",
          "text": [
            "key: 129, valor: 109\n",
            "key: 148, valor: 94\n",
            "key: 159, valor: 97\n",
            "key: 181, valor: 65\n",
            "key: 138, valor: 116\n",
            "key: 109, valor: 150\n",
            "key: 105, valor: 170\n",
            "key: 124, valor: 129\n",
            "key: 120, valor: 116\n",
            "key: 132, valor: 143\n",
            "key: 140, valor: 114\n",
            "key: 152, valor: 113\n",
            "key: 164, valor: 115\n",
            "key: 158, valor: 84\n",
            "key: 154, valor: 106\n",
            "key: 170, valor: 83\n",
            "key: 149, valor: 107\n",
            "key: 156, valor: 83\n",
            "key: 126, valor: 121\n",
            "key: 90, valor: 227\n",
            "key: 63, valor: 243\n",
            "key: 65, valor: 202\n",
            "key: 55, valor: 246\n",
            "key: 83, valor: 194\n",
            "key: 91, valor: 198\n",
            "key: 86, valor: 180\n",
            "key: 82, valor: 181\n",
            "key: 78, valor: 201\n",
            "key: 98, valor: 175\n",
            "key: 107, valor: 142\n",
            "key: 96, valor: 212\n",
            "key: 95, valor: 189\n",
            "key: 70, valor: 233\n",
            "key: 61, valor: 213\n",
            "key: 53, valor: 227\n",
            "key: 71, valor: 223\n",
            "key: 72, valor: 209\n",
            "key: 76, valor: 193\n",
            "key: 73, valor: 211\n",
            "key: 79, valor: 251\n",
            "key: 58, valor: 205\n",
            "key: 25, valor: 323\n",
            "key: 26, valor: 319\n",
            "key: 28, valor: 280\n",
            "key: 20, valor: 411\n",
            "key: 29, valor: 286\n",
            "key: 27, valor: 412\n",
            "key: 32, valor: 263\n",
            "key: 30, valor: 244\n",
            "key: 31, valor: 273\n",
            "key: 33, valor: 261\n",
            "key: 34, valor: 260\n",
            "key: 36, valor: 258\n",
            "key: 39, valor: 263\n",
            "key: 41, valor: 248\n",
            "key: 50, valor: 261\n",
            "key: 56, valor: 223\n",
            "key: 59, valor: 265\n",
            "key: 60, valor: 224\n",
            "key: 84, valor: 189\n",
            "key: 106, valor: 144\n",
            "key: 66, valor: 218\n",
            "key: 77, valor: 223\n",
            "key: 44, valor: 223\n",
            "key: 21, valor: 387\n",
            "key: 42, valor: 242\n",
            "key: 48, valor: 288\n",
            "key: 49, valor: 245\n",
            "key: 52, valor: 239\n",
            "key: 75, valor: 202\n",
            "key: 93, valor: 193\n",
            "key: 131, valor: 91\n",
            "key: 127, valor: 128\n",
            "key: 130, valor: 129\n",
            "key: 43, valor: 235\n",
            "key: 37, valor: 257\n",
            "key: 24, valor: 344\n",
            "key: 23, valor: 365\n",
            "key: 40, valor: 260\n",
            "key: 51, valor: 240\n",
            "key: 57, valor: 227\n",
            "key: 54, valor: 226\n",
            "key: 67, valor: 197\n",
            "key: 198, valor: 52\n",
            "key: 190, valor: 54\n",
            "key: 210, valor: 50\n",
            "key: 195, valor: 57\n",
            "key: 275, valor: 30\n",
            "key: 110, valor: 134\n",
            "key: 100, valor: 195\n",
            "key: 81, valor: 182\n",
            "key: 92, valor: 177\n",
            "key: 135, valor: 124\n",
            "key: 155, valor: 92\n",
            "key: 250, valor: 36\n",
            "key: 200, valor: 57\n",
            "key: 231, valor: 42\n",
            "key: 212, valor: 47\n",
            "key: 219, valor: 40\n",
            "key: 227, valor: 62\n",
            "key: 226, valor: 46\n",
            "key: 225, valor: 49\n",
            "key: 168, valor: 72\n",
            "key: 169, valor: 66\n",
            "key: 165, valor: 84\n",
            "key: 167, valor: 83\n",
            "key: 196, valor: 76\n",
            "key: 119, valor: 112\n",
            "key: 45, valor: 245\n",
            "key: 47, valor: 248\n",
            "key: 62, valor: 206\n",
            "key: 35, valor: 250\n",
            "key: 68, valor: 193\n",
            "key: 88, valor: 180\n",
            "key: 22, valor: 391\n",
            "key: 17, valor: 572\n",
            "key: 16, valor: 626\n",
            "key: 18, valor: 480\n",
            "key: 15, valor: 486\n",
            "key: 13, valor: 589\n",
            "key: 9, valor: 509\n",
            "key: 11, valor: 596\n",
            "key: 19, valor: 420\n",
            "key: 12, valor: 578\n",
            "key: 257, valor: 30\n",
            "key: 174, valor: 91\n",
            "key: 161, valor: 101\n",
            "key: 137, valor: 107\n",
            "key: 64, valor: 215\n",
            "key: 87, valor: 197\n",
            "key: 89, valor: 193\n",
            "key: 94, valor: 160\n",
            "key: 69, valor: 280\n",
            "key: 102, valor: 149\n",
            "key: 141, valor: 106\n",
            "key: 211, valor: 51\n",
            "key: 242, valor: 34\n",
            "key: 271, valor: 35\n",
            "key: 249, valor: 35\n",
            "key: 147, valor: 89\n",
            "key: 114, valor: 137\n",
            "key: 108, valor: 158\n",
            "key: 128, valor: 146\n",
            "key: 150, valor: 102\n",
            "key: 197, valor: 44\n",
            "key: 235, valor: 47\n",
            "key: 261, valor: 21\n",
            "key: 269, valor: 36\n",
            "key: 266, valor: 37\n",
            "key: 263, valor: 28\n",
            "key: 241, valor: 35\n",
            "key: 205, valor: 67\n",
            "key: 160, valor: 89\n",
            "key: 208, valor: 53\n",
            "key: 209, valor: 53\n",
            "key: 183, valor: 74\n",
            "key: 182, valor: 56\n",
            "key: 230, valor: 40\n",
            "key: 172, valor: 81\n",
            "key: 166, valor: 94\n",
            "key: 177, valor: 63\n",
            "key: 191, valor: 58\n",
            "key: 268, valor: 24\n",
            "key: 317, valor: 9\n",
            "key: 291, valor: 13\n",
            "key: 313, valor: 14\n",
            "key: 282, valor: 36\n",
            "key: 303, valor: 14\n",
            "key: 349, valor: 8\n",
            "key: 407, valor: 7\n",
            "key: 361, valor: 5\n",
            "key: 234, valor: 35\n",
            "key: 184, valor: 85\n",
            "key: 146, valor: 108\n",
            "key: 144, valor: 123\n",
            "key: 173, valor: 59\n",
            "key: 188, valor: 66\n",
            "key: 203, valor: 59\n",
            "key: 233, valor: 39\n",
            "key: 408, valor: 8\n",
            "key: 435, valor: 7\n",
            "key: 403, valor: 9\n",
            "key: 360, valor: 12\n",
            "key: 402, valor: 10\n",
            "key: 358, valor: 12\n",
            "key: 383, valor: 10\n",
            "key: 332, valor: 19\n",
            "key: 274, valor: 27\n",
            "key: 256, valor: 34\n",
            "key: 302, valor: 23\n",
            "key: 330, valor: 14\n",
            "key: 367, valor: 10\n",
            "key: 297, valor: 20\n",
            "key: 331, valor: 16\n",
            "key: 323, valor: 19\n",
            "key: 339, valor: 17\n",
            "key: 301, valor: 20\n",
            "key: 310, valor: 16\n",
            "key: 305, valor: 13\n",
            "key: 336, valor: 14\n",
            "key: 357, valor: 14\n",
            "key: 485, valor: 7\n",
            "key: 426, valor: 4\n",
            "key: 374, valor: 10\n",
            "key: 333, valor: 11\n",
            "key: 343, valor: 17\n",
            "key: 364, valor: 9\n",
            "key: 389, valor: 11\n",
            "key: 368, valor: 5\n",
            "key: 267, valor: 27\n",
            "key: 38, valor: 294\n",
            "key: 85, valor: 192\n",
            "key: 199, valor: 63\n",
            "key: 340, valor: 11\n",
            "key: 298, valor: 18\n",
            "key: 299, valor: 24\n",
            "key: 300, valor: 14\n",
            "key: 240, valor: 36\n",
            "key: 213, valor: 38\n",
            "key: 171, valor: 59\n",
            "key: 153, valor: 116\n",
            "key: 143, valor: 130\n",
            "key: 14, valor: 491\n",
            "key: 10, valor: 523\n",
            "key: 145, valor: 103\n",
            "key: 101, valor: 162\n",
            "key: 104, valor: 145\n",
            "key: 97, valor: 164\n",
            "key: 80, valor: 256\n",
            "key: 121, valor: 148\n",
            "key: 103, valor: 161\n",
            "key: 99, valor: 177\n",
            "key: 74, valor: 199\n",
            "key: 189, valor: 62\n",
            "key: 118, valor: 143\n",
            "key: 125, valor: 121\n",
            "key: 162, valor: 71\n",
            "key: 157, valor: 73\n",
            "key: 178, valor: 73\n",
            "key: 187, valor: 73\n",
            "key: 185, valor: 75\n",
            "key: 180, valor: 66\n",
            "key: 136, valor: 106\n",
            "key: 133, valor: 99\n",
            "key: 163, valor: 95\n",
            "key: 258, valor: 28\n",
            "key: 247, valor: 45\n",
            "key: 273, valor: 30\n",
            "key: 253, valor: 28\n",
            "key: 254, valor: 39\n",
            "key: 229, valor: 43\n",
            "key: 193, valor: 58\n",
            "key: 207, valor: 38\n",
            "key: 176, valor: 73\n",
            "key: 6, valor: 239\n",
            "key: 8, valor: 382\n",
            "key: 7, valor: 296\n",
            "key: 46, valor: 258\n",
            "key: 113, valor: 147\n",
            "key: 259, valor: 54\n",
            "key: 351, valor: 10\n",
            "key: 980, valor: 1\n",
            "key: 599, valor: 1\n",
            "key: 116, valor: 137\n",
            "key: 192, valor: 53\n",
            "key: 237, valor: 41\n",
            "key: 115, valor: 130\n",
            "key: 265, valor: 15\n",
            "key: 236, valor: 31\n",
            "key: 296, valor: 25\n",
            "key: 117, valor: 133\n",
            "key: 112, valor: 141\n",
            "key: 204, valor: 61\n",
            "key: 122, valor: 137\n",
            "key: 175, valor: 74\n",
            "key: 215, valor: 51\n",
            "key: 214, valor: 47\n",
            "key: 206, valor: 72\n",
            "key: 220, valor: 45\n",
            "key: 111, valor: 173\n",
            "key: 134, valor: 115\n",
            "key: 142, valor: 106\n",
            "key: 179, valor: 67\n",
            "key: 218, valor: 40\n",
            "key: 246, valor: 34\n",
            "key: 264, valor: 31\n",
            "key: 283, valor: 27\n",
            "key: 223, valor: 26\n",
            "key: 243, valor: 26\n",
            "key: 262, valor: 23\n",
            "key: 311, valor: 20\n",
            "key: 307, valor: 19\n",
            "key: 312, valor: 16\n",
            "key: 292, valor: 16\n",
            "key: 353, valor: 13\n",
            "key: 309, valor: 16\n",
            "key: 284, valor: 33\n",
            "key: 244, valor: 32\n",
            "key: 139, valor: 110\n",
            "key: 248, valor: 40\n",
            "key: 123, valor: 131\n",
            "key: 202, valor: 63\n",
            "key: 224, valor: 45\n",
            "key: 252, valor: 33\n",
            "key: 222, valor: 44\n",
            "key: 255, valor: 27\n",
            "key: 5, valor: 109\n",
            "key: 216, valor: 35\n",
            "key: 314, valor: 14\n",
            "key: 201, valor: 69\n",
            "key: 239, valor: 40\n",
            "key: 228, valor: 27\n",
            "key: 221, valor: 46\n",
            "key: 217, valor: 44\n",
            "key: 245, valor: 32\n",
            "key: 232, valor: 33\n",
            "key: 700, valor: 1\n",
            "key: 473, valor: 3\n",
            "key: 381, valor: 6\n",
            "key: 315, valor: 19\n",
            "key: 784, valor: 1\n",
            "key: 761, valor: 1\n",
            "key: 260, valor: 24\n",
            "key: 280, valor: 34\n",
            "key: 366, valor: 8\n",
            "key: 288, valor: 24\n",
            "key: 194, valor: 64\n",
            "key: 186, valor: 46\n",
            "key: 286, valor: 24\n",
            "key: 289, valor: 20\n",
            "key: 285, valor: 25\n",
            "key: 151, valor: 102\n",
            "key: 385, valor: 8\n",
            "key: 382, valor: 8\n",
            "key: 369, valor: 11\n",
            "key: 342, valor: 12\n",
            "key: 324, valor: 22\n",
            "key: 272, valor: 19\n",
            "key: 294, valor: 14\n",
            "key: 4, valor: 75\n",
            "key: 238, valor: 31\n",
            "key: 251, valor: 24\n",
            "key: 2, valor: 24\n",
            "key: 3, valor: 49\n",
            "key: 304, valor: 13\n",
            "key: 290, valor: 25\n",
            "key: 270, valor: 25\n",
            "key: 278, valor: 19\n",
            "key: 277, valor: 33\n",
            "key: 276, valor: 13\n",
            "key: 281, valor: 28\n",
            "key: 306, valor: 23\n",
            "key: 295, valor: 18\n",
            "key: 318, valor: 21\n",
            "key: 326, valor: 14\n",
            "key: 337, valor: 13\n",
            "key: 321, valor: 9\n",
            "key: 411, valor: 6\n",
            "key: 414, valor: 8\n",
            "key: 334, valor: 17\n",
            "key: 455, valor: 2\n",
            "key: 440, valor: 5\n",
            "key: 293, valor: 24\n",
            "key: 1, valor: 5\n",
            "key: 320, valor: 15\n",
            "key: 372, valor: 8\n",
            "key: 503, valor: 5\n",
            "key: 534, valor: 3\n",
            "key: 506, valor: 1\n",
            "key: 505, valor: 1\n",
            "key: 465, valor: 2\n",
            "key: 468, valor: 2\n",
            "key: 449, valor: 5\n",
            "key: 418, valor: 9\n",
            "key: 405, valor: 5\n",
            "key: 388, valor: 11\n",
            "key: 384, valor: 12\n",
            "key: 359, valor: 7\n",
            "key: 355, valor: 11\n",
            "key: 348, valor: 18\n",
            "key: 344, valor: 13\n",
            "key: 279, valor: 17\n",
            "key: 287, valor: 21\n",
            "key: 327, valor: 20\n",
            "key: 365, valor: 9\n",
            "key: 391, valor: 10\n",
            "key: 423, valor: 4\n",
            "key: 429, valor: 5\n",
            "key: 439, valor: 7\n",
            "key: 458, valor: 3\n",
            "key: 436, valor: 13\n",
            "key: 431, valor: 5\n",
            "key: 387, valor: 8\n",
            "key: 350, valor: 18\n",
            "key: 406, valor: 8\n",
            "key: 422, valor: 6\n",
            "key: 400, valor: 8\n",
            "key: 470, valor: 5\n",
            "key: 459, valor: 4\n",
            "key: 378, valor: 6\n",
            "key: 329, valor: 9\n",
            "key: 335, valor: 18\n",
            "key: 396, valor: 9\n",
            "key: 412, valor: 5\n",
            "key: 430, valor: 8\n",
            "key: 434, valor: 4\n",
            "key: 438, valor: 5\n",
            "key: 416, valor: 6\n",
            "key: 417, valor: 4\n",
            "key: 394, valor: 12\n",
            "key: 380, valor: 8\n",
            "key: 376, valor: 7\n",
            "key: 397, valor: 12\n",
            "key: 392, valor: 8\n",
            "key: 428, valor: 3\n",
            "key: 420, valor: 7\n",
            "key: 399, valor: 10\n",
            "key: 393, valor: 11\n",
            "key: 415, valor: 6\n",
            "key: 395, valor: 10\n",
            "key: 352, valor: 12\n",
            "key: 419, valor: 5\n",
            "key: 463, valor: 4\n",
            "key: 481, valor: 2\n",
            "key: 466, valor: 6\n",
            "key: 479, valor: 3\n",
            "key: 472, valor: 6\n",
            "key: 467, valor: 1\n",
            "key: 525, valor: 3\n",
            "key: 504, valor: 2\n",
            "key: 502, valor: 5\n",
            "key: 521, valor: 1\n",
            "key: 446, valor: 5\n",
            "key: 354, valor: 11\n",
            "key: 362, valor: 13\n",
            "key: 325, valor: 12\n",
            "key: 346, valor: 15\n",
            "key: 476, valor: 4\n",
            "key: 480, valor: 4\n",
            "key: 482, valor: 4\n",
            "key: 535, valor: 1\n",
            "key: 569, valor: 2\n",
            "key: 562, valor: 3\n",
            "key: 488, valor: 2\n",
            "key: 453, valor: 6\n",
            "key: 501, valor: 3\n",
            "key: 559, valor: 1\n",
            "key: 557, valor: 3\n",
            "key: 540, valor: 1\n",
            "key: 371, valor: 6\n",
            "key: 454, valor: 3\n",
            "key: 328, valor: 16\n",
            "key: 432, valor: 7\n",
            "key: 433, valor: 2\n",
            "key: 462, valor: 3\n",
            "key: 398, valor: 8\n",
            "key: 316, valor: 18\n",
            "key: 379, valor: 9\n",
            "key: 443, valor: 4\n",
            "key: 322, valor: 14\n",
            "key: 363, valor: 6\n",
            "key: 319, valor: 9\n",
            "key: 308, valor: 17\n",
            "key: 528, valor: 2\n",
            "key: 489, valor: 4\n",
            "key: 404, valor: 7\n",
            "key: 410, valor: 4\n",
            "key: 441, valor: 5\n",
            "key: 425, valor: 6\n",
            "key: 427, valor: 1\n",
            "key: 474, valor: 3\n",
            "key: 500, valor: 1\n",
            "key: 548, valor: 1\n",
            "key: 584, valor: 2\n",
            "key: 607, valor: 1\n",
            "key: 611, valor: 1\n",
            "key: 615, valor: 1\n",
            "key: 587, valor: 1\n",
            "key: 570, valor: 1\n",
            "key: 573, valor: 2\n",
            "key: 513, valor: 3\n",
            "key: 345, valor: 9\n",
            "key: 437, valor: 6\n",
            "key: 477, valor: 5\n",
            "key: 510, valor: 4\n",
            "key: 526, valor: 3\n",
            "key: 492, valor: 3\n",
            "key: 527, valor: 1\n",
            "key: 486, valor: 5\n",
            "key: 493, valor: 2\n",
            "key: 515, valor: 2\n",
            "key: 595, valor: 1\n",
            "key: 563, valor: 2\n",
            "key: 495, valor: 2\n",
            "key: 508, valor: 2\n",
            "key: 464, valor: 1\n",
            "key: 452, valor: 1\n",
            "key: 498, valor: 3\n",
            "key: 478, valor: 2\n",
            "key: 499, valor: 1\n",
            "key: 494, valor: 4\n",
            "key: 445, valor: 4\n",
            "key: 457, valor: 4\n",
            "key: 347, valor: 15\n",
            "key: 401, valor: 5\n",
            "key: 373, valor: 6\n",
            "key: 461, valor: 1\n",
            "key: 421, valor: 3\n",
            "key: 469, valor: 6\n",
            "key: 409, valor: 4\n",
            "key: 451, valor: 2\n",
            "key: 424, valor: 4\n",
            "key: 413, valor: 6\n",
            "key: 377, valor: 5\n",
            "key: 442, valor: 4\n",
            "key: 375, valor: 6\n",
            "key: 390, valor: 6\n",
            "key: 356, valor: 11\n",
            "key: 341, valor: 13\n",
            "key: 338, valor: 13\n",
            "key: 386, valor: 5\n",
            "key: 514, valor: 1\n",
            "key: 370, valor: 6\n",
            "key: 460, valor: 4\n",
            "key: 490, valor: 4\n",
            "key: 522, valor: 4\n",
            "key: 456, valor: 3\n",
            "key: 524, valor: 1\n",
            "key: 491, valor: 1\n",
            "key: 484, valor: 2\n",
            "key: 450, valor: 5\n",
            "key: 558, valor: 1\n",
            "key: 994, valor: 1\n",
            "key: 972, valor: 1\n",
            "key: 0, valor: 2\n",
            "key: 529, valor: 1\n",
            "key: 802, valor: 1\n",
            "key: 845, valor: 1\n",
            "key: 810, valor: 1\n",
            "key: 776, valor: 1\n",
            "key: 824, valor: 1\n",
            "key: 886, valor: 1\n",
            "key: 852, valor: 1\n",
            "key: 858, valor: 1\n",
            "key: 805, valor: 1\n",
            "key: 744, valor: 1\n",
            "key: 731, valor: 1\n",
            "key: 722, valor: 1\n",
            "key: 684, valor: 1\n",
            "key: 651, valor: 2\n",
            "key: 673, valor: 1\n",
            "key: 475, valor: 1\n",
            "key: 523, valor: 2\n",
            "key: 447, valor: 1\n",
            "key: 448, valor: 4\n",
            "key: 603, valor: 1\n",
            "key: 496, valor: 2\n",
            "key: 444, valor: 4\n",
            "key: 512, valor: 3\n",
            "key: 532, valor: 3\n",
            "key: 516, valor: 1\n",
            "key: 541, valor: 2\n",
            "key: 517, valor: 1\n",
            "key: 539, valor: 1\n",
            "key: 567, valor: 1\n",
            "key: 659, valor: 1\n",
            "key: 648, valor: 1\n",
            "key: 671, valor: 1\n",
            "key: 623, valor: 1\n",
            "key: 618, valor: 1\n",
            "key: 487, valor: 1\n",
            "key: 579, valor: 1\n",
            "key: 649, valor: 1\n",
            "key: 507, valor: 1\n",
            "key: 545, valor: 1\n",
            "key: 577, valor: 1\n",
            "key: 483, valor: 1\n",
            "key: 519, valor: 1\n",
            "key: 551, valor: 1\n",
            "key: 542, valor: 1\n",
            "key: 580, valor: 1\n",
            "longitud de y 41757\n",
            "longitud ----------------- de y mayores 120 %d 12483\n",
            "Prob [f mayor que 120]=   0.2989438896472448\n"
          ],
          "name": "stdout"
        }
      ]
    },
    {
      "cell_type": "markdown",
      "metadata": {
        "id": "v-td1Lm0DgT8"
      },
      "source": [
        "### Se determino que la probabilidad de obtener un valor de pm2.5 superior a 120 es de 29.89%\n",
        "\n",
        "\n",
        "\n"
      ]
    },
    {
      "cell_type": "markdown",
      "metadata": {
        "id": "05uV_yIt5cRp"
      },
      "source": [
        "##  *** Se realiza la representación del gráfico y se busca el modelo que mejor se acomode a la distribución. Modelo weibull***\n"
      ]
    },
    {
      "cell_type": "code",
      "metadata": {
        "id": "LDdaVQKeSOm1",
        "colab": {
          "base_uri": "https://localhost:8080/",
          "height": 422
        },
        "outputId": "1e9677a1-4d4c-4330-ee67-c4beb1f73ddb"
      },
      "source": [
        "# Realizar la represnetación y buscar el mejor modelo de acuerdo a la distribución de los datos\n",
        "import scipy\n",
        "import numpy\n",
        "\n",
        "plt.figure(figsize=(12,6))\n",
        "pm25 = df[\"pm2.5\"]\n",
        "p0, p1, p2 = scipy.stats.weibull_min.fit(pm25, floc=0)\n",
        "plt.hist(pm25, bins=100, density=True, alpha=0.5)\n",
        "support = numpy.linspace(pm25.min(), pm25.max(), 100)\n",
        "plt.plot(support, scipy.stats.weibull_min.pdf(support, p0, p1, p2), \"r-\", lw=2)\n",
        "plt.title(\"TLS PM2.5\", weight=\"bold\")\n",
        "plt.xlabel(\"PM2.5 (ug/m^3)\")\n",
        "plt.show()\n",
        "print(\"La probabilidad de encontrar un valor encima de 120 es:  \", (1-scipy.stats.weibull_min.cdf(120, p0, p1, p2))*100)"
      ],
      "execution_count": 104,
      "outputs": [
        {
          "output_type": "display_data",
          "data": {
            "image/png": "[encoded data removed]",
            "text/plain": [
              "<Figure size 864x432 with 1 Axes>"
            ]
          },
          "metadata": {
            "tags": [],
            "needs_background": "light"
          }
        },
        {
          "output_type": "stream",
          "text": [
            "La probabilidad de encontrar un valor encima de 120 es:   30.494835138570785\n"
          ],
          "name": "stdout"
        }
      ]
    },
    {
      "cell_type": "markdown",
      "metadata": {
        "id": "kpFmomSeCtRA"
      },
      "source": [
        "## Con el modelo de pareto podemos ver una aproximación parecida que suple la distribución de los datos que se presentan en la muestra de pm2.5 así:"
      ]
    },
    {
      "cell_type": "code",
      "metadata": {
        "colab": {
          "base_uri": "https://localhost:8080/",
          "height": 422
        },
        "id": "berbUwtWDDH1",
        "outputId": "7f1e067d-22d5-43e2-e4d7-94a02fb46ba5"
      },
      "source": [
        "plt.figure(figsize=(12,6))\n",
        "pm25 = df[\"pm2.5\"]\n",
        "p3, p4, p5 = scipy.stats.pareto.fit(pm25, 1, loc=20, scale=1.05)\n",
        "plt.hist(pm25, bins=100, density=True, alpha=0.5)\n",
        "support = numpy.linspace(pm25.min(), pm25.max(), 100)\n",
        "plt.plot(support, scipy.stats.pareto.pdf(support, p3, p4, p5), \"r-\", lw=2)\n",
        "plt.title(\"TLS PM2.5\", weight=\"bold\")\n",
        "plt.xlabel(\"PM2.5 (ug/m^3)\")\n",
        "plt.show()\n",
        "print(\"La probabilidad de encontrar un valor de 120 es: \", (1-scipy.stats.pareto.cdf(120, p3, p4, p5))*100)"
      ],
      "execution_count": 105,
      "outputs": [
        {
          "output_type": "display_data",
          "data": {
            "image/png": "[encoded data removed]",
            "text/plain": [
              "<Figure size 864x432 with 1 Axes>"
            ]
          },
          "metadata": {
            "tags": [],
            "needs_background": "light"
          }
        },
        {
          "output_type": "stream",
          "text": [
            "La probabilidad de encontrar un valor de 120 es:  29.365140209397488\n"
          ],
          "name": "stdout"
        }
      ]
    },
    {
      "cell_type": "code",
      "metadata": {
        "id": "gX0KKE-O_3AC"
      },
      "source": [
        ""
      ],
      "execution_count": 105,
      "outputs": []
    },
    {
      "cell_type": "markdown",
      "metadata": {
        "id": "A2I7Rn4ZCm7i"
      },
      "source": [
        "# PUNTO 6. Para finalizar, agrupe por año el valor de la variable \"pm2.5\", calcule el promedio y ordene la base de datos de manera ascendente por el promedio.\n"
      ]
    },
    {
      "cell_type": "code",
      "metadata": {
        "id": "k51lSfsjDHZ3",
        "colab": {
          "base_uri": "https://localhost:8080/",
          "height": 557
        },
        "outputId": "5fc2ccb6-a1e8-49ac-9a09-1a562773b8a4"
      },
      "source": [
        "## Calculo de PM2.5 por medias y organizar por valores\n",
        "\n",
        "print(\"*\"*60)\n",
        "print(\"Calcular los medias PM2.5\")\n",
        "print(\"*\"*60)\n",
        "pm25_medias = df.groupby(['year'])['pm2.5'].mean().sort_values()\n",
        "display(pm25_medias)\n",
        "\n",
        "print(\"*\"*60)\n",
        "print(\"Calcular los mínimos PM2.5\")\n",
        "print(\"*\"*60)\n",
        "pm25_minimos = df.groupby(['year'])['pm2.5'].min().sort_values()\n",
        "display(pm25_minimos)\n",
        "\n",
        "print(\"*\"*60)\n",
        "print(\"Calcular los máximos PM2.5\")\n",
        "print(\"*\"*60)\n",
        "pm25_maximos = df.groupby(['year'])['pm2.5'].max().sort_values()\n",
        "display(pm25_maximos)\n"
      ],
      "execution_count": 106,
      "outputs": [
        {
          "output_type": "stream",
          "text": [
            "************************************************************\n",
            "Calcular los medias PM2.5\n",
            "************************************************************\n"
          ],
          "name": "stdout"
        },
        {
          "output_type": "display_data",
          "data": {
            "text/plain": [
              "year\n",
              "2012     90.545871\n",
              "2014     97.734557\n",
              "2011     99.071340\n",
              "2013    101.712376\n",
              "2010    104.045730\n",
              "Name: pm2.5, dtype: float64"
            ]
          },
          "metadata": {
            "tags": []
          }
        },
        {
          "output_type": "stream",
          "text": [
            "************************************************************\n",
            "Calcular los mínimos PM2.5\n",
            "************************************************************\n"
          ],
          "name": "stdout"
        },
        {
          "output_type": "display_data",
          "data": {
            "text/plain": [
              "year\n",
              "2012    0.0\n",
              "2010    1.0\n",
              "2011    2.0\n",
              "2013    2.0\n",
              "2014    2.0\n",
              "Name: pm2.5, dtype: float64"
            ]
          },
          "metadata": {
            "tags": []
          }
        },
        {
          "output_type": "stream",
          "text": [
            "************************************************************\n",
            "Calcular los máximos PM2.5\n",
            "************************************************************\n"
          ],
          "name": "stdout"
        },
        {
          "output_type": "display_data",
          "data": {
            "text/plain": [
              "year\n",
              "2011    595.0\n",
              "2014    671.0\n",
              "2013    886.0\n",
              "2010    980.0\n",
              "2012    994.0\n",
              "Name: pm2.5, dtype: float64"
            ]
          },
          "metadata": {
            "tags": []
          }
        }
      ]
    },
    {
      "cell_type": "code",
      "metadata": {
        "id": "A7k2o1XUEweI",
        "colab": {
          "base_uri": "https://localhost:8080/",
          "height": 513
        },
        "outputId": "f8d45bd2-c54f-4236-f3a3-e7cbdc574212"
      },
      "source": [
        "# Crear la figura de series de tiempo para PM2.5\n",
        "\n",
        "plt.figure(figsize=(14,8))\n",
        "ax = sbn.lineplot(x=pd.to_datetime(df['year'].map(str), format=\"%Y\"), \n",
        "                  y=\"pm2.5\", data=df )\n",
        "ax.set(title='Series de tiempo concentración PM2.5', xlabel='Año', ylabel='PM2.5')\n",
        "ax.yaxis.grid(True)\n",
        "\n",
        "# Mostrar la figura\n",
        "plt.show()"
      ],
      "execution_count": 107,
      "outputs": [
        {
          "output_type": "display_data",
          "data": {
            "image/png": "[encoded data removed]",
            "text/plain": [
              "<Figure size 1008x576 with 1 Axes>"
            ]
          },
          "metadata": {
            "tags": [],
            "needs_background": "light"
          }
        }
      ]
    },
    {
      "cell_type": "markdown",
      "metadata": {
        "id": "b1AGV4JsE5eX"
      },
      "source": [
        "Referencias:\n",
        "\n",
        "https://blog.findemor.es/2017/12/machine-learning-introduccion-estadistica-basica-python/\n",
        "\n",
        "https://relopezbriega.github.io/blog/2016/06/29/distribuciones-de-probabilidad-con-python/\n",
        "\n",
        "https://es.wikipedia.org/wiki/Distribuci%C3%B3n_de_Pareto\n",
        "\n"
      ]
    },
    {
      "cell_type": "code",
      "metadata": {
        "id": "MezwijdYgo7W"
      },
      "source": [
        ""
      ],
      "execution_count": 107,
      "outputs": []
    }
  ]
}